{
 "cells": [
  {
   "cell_type": "markdown",
   "metadata": {},
   "source": [
    "## Step 1: Data extraction\n",
    "\n",
    "#### Instructions\n",
    "Your assignment is to create an informative graph, starting from scratch, and following best practices for reproducible research. You are allowed to collect data of your choice. For example, you could collect through one of the following means:\n",
    "\n",
    "- Web-data using web-scraping APIs (similar to what we discussed in class)\n",
    "- Twitter data using the Twitter API (e.g., https://python-twitter.readthedocs.io/en/latest/getting_started.htmlLinks to an external site.)\n",
    "- Wikipedia data using the Wikipedia API (e.g., https://pypi.org/project/Wikipedia-API/Links to an external site.)\n",
    "- Survey data with Google Forms or street interviews\n",
    " \n",
    " If you use an API/Libraries (e.g.., BeautifulSoup/TwitterAPI/WikipediaAPI) to collect data, please include what API you used and your code that makes API calls. If you choose not to use an API to collect data, note that each of the datasets should have at least 50 data points with at least 4 attributes each. If you are using API/Libraries, the expectation is that you collect data that has more than 200 data points with at least 4 attributes each. In any case, you are, of course, allowed to gather and merge data from different sources, but do cite all the sources and clearly mention your merging criteria.\n",
    "\n",
    "#### Documentation:\n",
    "\n",
    "- Using the data from IMDb top 1000 grossing movies https://www.imdb.com/list/ls098063263/?sort=list_order,asc&st_dt=&mode=detail&page=1, I extract the movie name, year, gross, metascore, votes and rating. \n",
    "- First, I import BeautifulSoup, requests and pprint \n",
    "- Then, I create a function get_data to get the data with the url https://www.imdb.com/list/ls098063263/?sort=list_order,asc&st_dt=&mode=detail&page={page_num}\n",
    "- After thatm I create an empty list that stores a dictionary of different movies with their respective features and information \n",
    "- At last, I call the function get_data ten times with increment page numbers to conclude a list of all of the movies. "
   ]
  },
  {
   "cell_type": "code",
   "execution_count": 74,
   "metadata": {},
   "outputs": [
    {
     "name": "stdout",
     "output_type": "stream",
     "text": [
      "98\n",
      "97\n",
      "98\n",
      "97\n",
      "98\n",
      "98\n",
      "94\n",
      "94\n",
      "96\n",
      "90\n"
     ]
    }
   ],
   "source": [
    "import requests\n",
    "from bs4 import BeautifulSoup\n",
    "from pprint import pprint\n",
    "\n",
    "\n",
    "def get_data(page_num):\n",
    "    url = f'https://www.imdb.com/list/ls098063263/?sort=list_order,asc&st_dt=&mode=detail&page={page_num}'\n",
    "    data = requests.get(url)\n",
    "\n",
    "    my_data = []\n",
    "\n",
    "    html = BeautifulSoup(data.text, 'html.parser')\n",
    "    card_movies = html.select('div.lister-item')\n",
    "    \n",
    "    # for each card movie perform data extraction on the title, year, rating, metascore, votes and gross. \n",
    "    for card_movie in card_movies:\n",
    "        title_and_year = card_movie.select(\".lister-item-header\")[0].get_text()\n",
    "        title = title_and_year.split(\"\\n\")[2]\n",
    "        year = title_and_year.split(\"\\n\")[3].split(\"(\")[1].split(\")\")[0]\n",
    "        rating = card_movie.select(\".ipl-rating-star__rating\")[0].get_text()\n",
    "\n",
    "        try:\n",
    "            metascore = float(card_movie.select(\".metascore\")[0].get_text())\n",
    "            votes = card_movie.find_all(\"span\", {'name' : \"nv\"})[0][\"data-value\"]\n",
    "            gross = \"\".join(card_movie.find_all(\"span\", {'name' : \"nv\"})[1][\"data-value\"].split(\",\"))\n",
    "            my_data.append({\"title\": title, \"year\" : year, \"rating\": rating, \"metascore\" : metascore, \"gross\" : gross, \"votes\" : votes})\n",
    "        except:\n",
    "            continue\n",
    "    \n",
    "    print(len(my_data))\n",
    "    return my_data\n",
    "\n",
    "master_data = []\n",
    "\n",
    "# get the data for 10 pages \n",
    "for i in range(10):\n",
    "    master_data += get_data(i + 1)\n",
    "    "
   ]
  },
  {
   "cell_type": "markdown",
   "metadata": {},
   "source": [
    "## Step 2: Data transformation and load\n",
    "\n",
    "Almost always when working with real-world data, we need to process the data to prepare it for analysis. For example, we may wish to convert times or dates, group certain sets of answers together, normalize columns (e.g., convert strings into floats), or any number of other operations. API responses may come in JSON format. Perform what processing steps you see fit to the raw data, ensuring that you keep a copy of the raw data, and save the processed data to a CSV file. This processed data will be the file that you share on data.world.\n",
    "\n",
    "#### Documentation\n",
    "\n",
    "- For each movies in the dataset, I will convert the metascore, votes, rating, gross, year from string to float as part of data transformation step. "
   ]
  },
  {
   "cell_type": "code",
   "execution_count": 142,
   "metadata": {},
   "outputs": [],
   "source": [
    "master_data_copy = master_data[:]\n",
    "\n",
    "for i in range(len(master_data_copy)):\n",
    "    data = master_data_copy[i]\n",
    "    if data[\"year\"] == \"II\" or data[\"year\"] == \"I\" or data[\"year\"] == \"IX\":\n",
    "        data[\"year\"] = \"\"\n",
    "    else:\n",
    "        try: \n",
    "            data[\"metascore\"] = float(data[\"metascore\"])\n",
    "            data[\"rating\"] = float(data[\"rating\"])\n",
    "            data[\"gross\"] = float(data[\"gross\"])\n",
    "            data[\"votes\"] = float(data[\"votes\"])\n",
    "        except:\n",
    "            continue\n",
    "\n",
    "\n"
   ]
  },
  {
   "cell_type": "markdown",
   "metadata": {},
   "source": [
    "## Step 3: Analysis: Summary and visualizations\n",
    "\n",
    "For this assignment, the analysis requested is fairly minimal. We would like to visualize some element of the data collected. This could be a trend over time or a point-in-time comparison. To aid you in choosing what to plot on your graph, consider: what surprised you about your data? What do you think is most important about your data?\n",
    "\n",
    "Obtain basic descriptive statistics, plot your data using suitable visualization graphs and charts. Make sure that your graphs have descriptive titles; labels for any axes, including units; and legends, wherever needed. All plots should be shown in the Jupyter notebook.\n",
    "\n",
    "#### Documentation: \n",
    "- To aid you in choosing what to plot on your graph, consider: what surprised you about your data? What do you think is most important about your data?\n",
    "\n",
    "I am surprised that my dataset is very clean, and different columns can help to predict the gross earnings of a movie including metascore and rating. \n",
    "The most important thing about my data is the columns of metascore, rating and gross earnings. \n",
    "\n",
    "Therefore, I would choose to plot the data with scatterplot to determine the relationship between metascore and gross earnings. \n",
    "\n",
    "\n",
    "- Obtain basic descriptive statistics, plot your data using suitable visualization graphs and charts. Make sure that your graphs have descriptive titles; labels for any axes, including units; and legends, wherever needed. All plots should be shown in the Jupyter notebook.'\n",
    "\n"
   ]
  },
  {
   "cell_type": "code",
   "execution_count": 143,
   "metadata": {},
   "outputs": [
    {
     "data": {
      "text/html": [
       "<div>\n",
       "<style scoped>\n",
       "    .dataframe tbody tr th:only-of-type {\n",
       "        vertical-align: middle;\n",
       "    }\n",
       "\n",
       "    .dataframe tbody tr th {\n",
       "        vertical-align: top;\n",
       "    }\n",
       "\n",
       "    .dataframe thead th {\n",
       "        text-align: right;\n",
       "    }\n",
       "</style>\n",
       "<table border=\"1\" class=\"dataframe\">\n",
       "  <thead>\n",
       "    <tr style=\"text-align: right;\">\n",
       "      <th></th>\n",
       "      <th>title</th>\n",
       "      <th>year</th>\n",
       "      <th>rating</th>\n",
       "      <th>metascore</th>\n",
       "      <th>gross</th>\n",
       "      <th>votes</th>\n",
       "    </tr>\n",
       "  </thead>\n",
       "  <tbody>\n",
       "    <tr>\n",
       "      <th>0</th>\n",
       "      <td>Avatar</td>\n",
       "      <td>2009</td>\n",
       "      <td>7.9</td>\n",
       "      <td>83.0</td>\n",
       "      <td>760507625.0</td>\n",
       "      <td>1326223.0</td>\n",
       "    </tr>\n",
       "    <tr>\n",
       "      <th>1</th>\n",
       "      <td>Avengers: Endgame</td>\n",
       "      <td>2019</td>\n",
       "      <td>8.4</td>\n",
       "      <td>78.0</td>\n",
       "      <td>858373000.0</td>\n",
       "      <td>1152470.0</td>\n",
       "    </tr>\n",
       "    <tr>\n",
       "      <th>2</th>\n",
       "      <td>Titanic</td>\n",
       "      <td>1997</td>\n",
       "      <td>7.9</td>\n",
       "      <td>75.0</td>\n",
       "      <td>659325379.0</td>\n",
       "      <td>1198617.0</td>\n",
       "    </tr>\n",
       "    <tr>\n",
       "      <th>3</th>\n",
       "      <td>Star Wars: Episode VII - The Force Awakens</td>\n",
       "      <td>2015</td>\n",
       "      <td>7.8</td>\n",
       "      <td>80.0</td>\n",
       "      <td>936662225.0</td>\n",
       "      <td>938755.0</td>\n",
       "    </tr>\n",
       "    <tr>\n",
       "      <th>4</th>\n",
       "      <td>Avengers: Infinity War</td>\n",
       "      <td>2018</td>\n",
       "      <td>8.4</td>\n",
       "      <td>68.0</td>\n",
       "      <td>678815482.0</td>\n",
       "      <td>1099025.0</td>\n",
       "    </tr>\n",
       "  </tbody>\n",
       "</table>\n",
       "</div>"
      ],
      "text/plain": [
       "                                        title  year  rating  metascore  \\\n",
       "0                                      Avatar  2009     7.9       83.0   \n",
       "1                           Avengers: Endgame  2019     8.4       78.0   \n",
       "2                                     Titanic  1997     7.9       75.0   \n",
       "3  Star Wars: Episode VII - The Force Awakens  2015     7.8       80.0   \n",
       "4                      Avengers: Infinity War  2018     8.4       68.0   \n",
       "\n",
       "         gross      votes  \n",
       "0  760507625.0  1326223.0  \n",
       "1  858373000.0  1152470.0  \n",
       "2  659325379.0  1198617.0  \n",
       "3  936662225.0   938755.0  \n",
       "4  678815482.0  1099025.0  "
      ]
     },
     "execution_count": 143,
     "metadata": {},
     "output_type": "execute_result"
    }
   ],
   "source": [
    "import pandas \n",
    "\n",
    "final_data = pandas.DataFrame(master_data_copy)\n",
    "\n",
    "final_data.head()"
   ]
  },
  {
   "cell_type": "code",
   "execution_count": 144,
   "metadata": {},
   "outputs": [
    {
     "name": "stdout",
     "output_type": "stream",
     "text": [
      "<class 'pandas.core.frame.DataFrame'>\n",
      "RangeIndex: 960 entries, 0 to 959\n",
      "Data columns (total 6 columns):\n",
      " #   Column     Non-Null Count  Dtype  \n",
      "---  ------     --------------  -----  \n",
      " 0   title      960 non-null    object \n",
      " 1   year       960 non-null    object \n",
      " 2   rating     960 non-null    float64\n",
      " 3   metascore  960 non-null    float64\n",
      " 4   gross      960 non-null    float64\n",
      " 5   votes      960 non-null    float64\n",
      "dtypes: float64(4), object(2)\n",
      "memory usage: 45.1+ KB\n"
     ]
    }
   ],
   "source": [
    "\n",
    "final_data = final_data.dropna()\n",
    "final_data.info()"
   ]
  },
  {
   "cell_type": "code",
   "execution_count": 155,
   "metadata": {},
   "outputs": [
    {
     "name": "stdout",
     "output_type": "stream",
     "text": [
      "<class 'pandas.core.frame.DataFrame'>\n",
      "Int64Index: 909 entries, 0 to 959\n",
      "Data columns (total 6 columns):\n",
      " #   Column     Non-Null Count  Dtype  \n",
      "---  ------     --------------  -----  \n",
      " 0   title      909 non-null    object \n",
      " 1   year       909 non-null    int64  \n",
      " 2   rating     909 non-null    float64\n",
      " 3   metascore  909 non-null    float64\n",
      " 4   gross      909 non-null    float64\n",
      " 5   votes      909 non-null    float64\n",
      "dtypes: float64(4), int64(1), object(1)\n",
      "memory usage: 49.7+ KB\n"
     ]
    }
   ],
   "source": [
    "final_data = final_data[final_data[\"year\"] != \"\"]\n",
    "\n",
    "final_data = final_data.astype({'year':'int'})\n",
    "\n",
    "final_data.info()"
   ]
  },
  {
   "cell_type": "code",
   "execution_count": 156,
   "metadata": {},
   "outputs": [
    {
     "name": "stdout",
     "output_type": "stream",
     "text": [
      " Number of duplicates before : 0\n",
      " Number of duplicates after removing : 0\n"
     ]
    }
   ],
   "source": [
    "number_of_duplicates = final_data.duplicated().sum()\n",
    "print (f\" Number of duplicates before : {number_of_duplicates}\")\n",
    "# Delete duplicate rows\n",
    "final_data = final_data.drop_duplicates()\n",
    "number_of_duplicates = final_data.duplicated().sum()\n",
    "print (f\" Number of duplicates after removing : {number_of_duplicates}\")"
   ]
  },
  {
   "cell_type": "code",
   "execution_count": 157,
   "metadata": {},
   "outputs": [
    {
     "data": {
      "text/html": [
       "<div>\n",
       "<style scoped>\n",
       "    .dataframe tbody tr th:only-of-type {\n",
       "        vertical-align: middle;\n",
       "    }\n",
       "\n",
       "    .dataframe tbody tr th {\n",
       "        vertical-align: top;\n",
       "    }\n",
       "\n",
       "    .dataframe thead th {\n",
       "        text-align: right;\n",
       "    }\n",
       "</style>\n",
       "<table border=\"1\" class=\"dataframe\">\n",
       "  <thead>\n",
       "    <tr style=\"text-align: right;\">\n",
       "      <th></th>\n",
       "      <th>year</th>\n",
       "      <th>rating</th>\n",
       "      <th>metascore</th>\n",
       "      <th>gross</th>\n",
       "      <th>votes</th>\n",
       "    </tr>\n",
       "  </thead>\n",
       "  <tbody>\n",
       "    <tr>\n",
       "      <th>count</th>\n",
       "      <td>909.000000</td>\n",
       "      <td>909.000000</td>\n",
       "      <td>909.000000</td>\n",
       "      <td>9.090000e+02</td>\n",
       "      <td>9.090000e+02</td>\n",
       "    </tr>\n",
       "    <tr>\n",
       "      <th>mean</th>\n",
       "      <td>2007.082508</td>\n",
       "      <td>6.828713</td>\n",
       "      <td>59.628163</td>\n",
       "      <td>1.615113e+08</td>\n",
       "      <td>3.615497e+05</td>\n",
       "    </tr>\n",
       "    <tr>\n",
       "      <th>std</th>\n",
       "      <td>10.488866</td>\n",
       "      <td>0.893479</td>\n",
       "      <td>15.973282</td>\n",
       "      <td>1.140100e+08</td>\n",
       "      <td>3.354539e+05</td>\n",
       "    </tr>\n",
       "    <tr>\n",
       "      <th>min</th>\n",
       "      <td>1937.000000</td>\n",
       "      <td>3.400000</td>\n",
       "      <td>12.000000</td>\n",
       "      <td>5.562000e+03</td>\n",
       "      <td>1.813000e+03</td>\n",
       "    </tr>\n",
       "    <tr>\n",
       "      <th>25%</th>\n",
       "      <td>2001.000000</td>\n",
       "      <td>6.300000</td>\n",
       "      <td>48.000000</td>\n",
       "      <td>9.478420e+07</td>\n",
       "      <td>1.480630e+05</td>\n",
       "    </tr>\n",
       "    <tr>\n",
       "      <th>50%</th>\n",
       "      <td>2009.000000</td>\n",
       "      <td>6.800000</td>\n",
       "      <td>59.000000</td>\n",
       "      <td>1.305129e+08</td>\n",
       "      <td>2.574850e+05</td>\n",
       "    </tr>\n",
       "    <tr>\n",
       "      <th>75%</th>\n",
       "      <td>2015.000000</td>\n",
       "      <td>7.400000</td>\n",
       "      <td>71.000000</td>\n",
       "      <td>1.914524e+08</td>\n",
       "      <td>4.599050e+05</td>\n",
       "    </tr>\n",
       "    <tr>\n",
       "      <th>max</th>\n",
       "      <td>2022.000000</td>\n",
       "      <td>9.200000</td>\n",
       "      <td>100.000000</td>\n",
       "      <td>9.366622e+08</td>\n",
       "      <td>2.680664e+06</td>\n",
       "    </tr>\n",
       "  </tbody>\n",
       "</table>\n",
       "</div>"
      ],
      "text/plain": [
       "              year      rating   metascore         gross         votes\n",
       "count   909.000000  909.000000  909.000000  9.090000e+02  9.090000e+02\n",
       "mean   2007.082508    6.828713   59.628163  1.615113e+08  3.615497e+05\n",
       "std      10.488866    0.893479   15.973282  1.140100e+08  3.354539e+05\n",
       "min    1937.000000    3.400000   12.000000  5.562000e+03  1.813000e+03\n",
       "25%    2001.000000    6.300000   48.000000  9.478420e+07  1.480630e+05\n",
       "50%    2009.000000    6.800000   59.000000  1.305129e+08  2.574850e+05\n",
       "75%    2015.000000    7.400000   71.000000  1.914524e+08  4.599050e+05\n",
       "max    2022.000000    9.200000  100.000000  9.366622e+08  2.680664e+06"
      ]
     },
     "execution_count": 157,
     "metadata": {},
     "output_type": "execute_result"
    }
   ],
   "source": [
    "# Obtain basic descriptive statistics \n",
    "final_data.describe()"
   ]
  },
  {
   "cell_type": "code",
   "execution_count": 158,
   "metadata": {},
   "outputs": [
    {
     "data": {
      "text/plain": [
       "Text(0.5, 1.0, 'Metascore-vs-Gross in Year')"
      ]
     },
     "execution_count": 158,
     "metadata": {},
     "output_type": "execute_result"
    },
    {
     "data": {
      "image/png": "[encoded data removed]",
      "text/plain": [
       "<Figure size 1080x720 with 1 Axes>"
      ]
     },
     "metadata": {
      "needs_background": "light"
     },
     "output_type": "display_data"
    }
   ],
   "source": [
    "from matplotlib import pyplot as plt\n",
    "import numpy as np \n",
    "\n",
    "metascore = final_data[\"metascore\"]\n",
    "gross = final_data[\"gross\"]\n",
    "year = final_data[\"year\"]\n",
    "rating = final_data[\"rating\"]\n",
    "\n",
    "plt.figure(figsize = (15,10))\n",
    "plt.xlabel(\"Metascore\")\n",
    "plt.ylabel(\"Gross\")\n",
    "\n",
    "# find line of best fit \n",
    "a, b = np.polyfit(metascore, gross, 1)\n",
    "plt.plot(metascore, a*metascore+b, color='steelblue', linestyle='--', linewidth=2)\n",
    "plt.scatter(metascore,gross, marker=\".\", color = \"red\", s = 100)\n",
    "\n",
    "# We can add a title too\n",
    "plt.title(\"Metascore-vs-Gross in Year\")\n",
    "\n"
   ]
  },
  {
   "cell_type": "code",
   "execution_count": 159,
   "metadata": {},
   "outputs": [
    {
     "name": "stdout",
     "output_type": "stream",
     "text": [
      "Pearson correlation coefficient: 0.2675120935900632\n",
      "p-value: 2.3199147646992676e-16\n"
     ]
    }
   ],
   "source": [
    "# Pearson correlation \n",
    "import scipy.stats as stats\n",
    "\n",
    "# create two arrays of data\n",
    "\n",
    "# calculate the Pearson correlation coefficient and p-value\n",
    "corr, pval = stats.pearsonr(metascore, gross)\n",
    "\n",
    "# print the result\n",
    "print(\"Pearson correlation coefficient:\", corr)\n",
    "print(\"p-value:\", pval)\n"
   ]
  },
  {
   "cell_type": "code",
   "execution_count": 160,
   "metadata": {
    "scrolled": true
   },
   "outputs": [
    {
     "data": {
      "text/plain": [
       "Text(0.5, 1.0, 'Rating-vs-Gross in Year')"
      ]
     },
     "execution_count": 160,
     "metadata": {},
     "output_type": "execute_result"
    },
    {
     "data": {
      "image/png": "[encoded data removed]",
      "text/plain": [
       "<Figure size 1080x720 with 1 Axes>"
      ]
     },
     "metadata": {
      "needs_background": "light"
     },
     "output_type": "display_data"
    }
   ],
   "source": [
    "from matplotlib import pyplot as plt\n",
    "import numpy as np \n",
    "\n",
    "metascore = final_data[\"metascore\"]\n",
    "gross = final_data[\"gross\"]\n",
    "year = final_data[\"year\"]\n",
    "rating = final_data[\"rating\"]\n",
    "\n",
    "plt.figure(figsize = (15,10))\n",
    "plt.xlabel(\"Rating\")\n",
    "plt.ylabel(\"Gross\")\n",
    "\n",
    "# find line of best fit \n",
    "a, b = np.polyfit(metascore, gross, 1)\n",
    "plt.plot(rating, a*rating+b, color='steelblue', linestyle='--', linewidth=2)\n",
    "plt.scatter(rating,gross, marker=\".\", color = \"purple\", s = 100)\n",
    "\n",
    "# We can add a title too\n",
    "plt.title(\"Rating-vs-Gross in Year\")\n",
    "\n"
   ]
  },
  {
   "cell_type": "code",
   "execution_count": 161,
   "metadata": {},
   "outputs": [
    {
     "name": "stdout",
     "output_type": "stream",
     "text": [
      "Pearson correlation coefficient: 0.3039680031297526\n",
      "p-value: 6.942489377898912e-21\n"
     ]
    }
   ],
   "source": [
    "# Pearson correlation \n",
    "import scipy.stats as stats\n",
    "\n",
    "# create two arrays of data\n",
    "\n",
    "# calculate the Pearson correlation coefficient and p-value\n",
    "corr, pval = stats.pearsonr(rating, gross)\n",
    "\n",
    "# print the result\n",
    "print(\"Pearson correlation coefficient:\", corr)\n",
    "print(\"p-value:\", pval)\n"
   ]
  },
  {
   "cell_type": "code",
   "execution_count": 163,
   "metadata": {},
   "outputs": [],
   "source": [
    "length = final_data.shape[0]\n",
    "final_data.to_csv(f\"Top_{length}_grossing_movies.csv\")"
   ]
  },
  {
   "cell_type": "markdown",
   "metadata": {},
   "source": [
    "## Step 4: Documentation\n",
    "\n",
    "We will follow best practices for documentation as described in the readings on reproducibility. You need to have documentation in three places: your Jupyter notebook, your README file on GitHub, and with your dataset on data.world.\n",
    "\n",
    " Your Jupyter notebook should include:\n",
    "\n",
    "Clear descriptions of each collection and processing step in Markdown sentences, not code comments\n",
    "\n",
    "\n",
    "Your README should include:\n",
    "\n",
    "The goal of your project\n",
    "Links to any relevant API documentation\n",
    "The license of your data and any source data\n",
    "A data type and description for each attribute in your data\n",
    "Any known issues or potential issues, such as sources of bias in collection\n",
    "\n",
    "\n",
    "Your dataset at data.world should be accompanied by:\n",
    "\n",
    "A project summary that explains your collection, processing and analysis methods as a high level, as well as links to your GitHub repo\n",
    "A data dictionary with a data type and description for each attribute in your data\n"
   ]
  },
  {
   "cell_type": "markdown",
   "metadata": {},
   "source": [
    "## Step 5: Publication and Submission\n",
    "\n",
    "Submit your processed data as a CSV file on data.world. Add a brief project description, your project summary, and your data dictionary.\n",
    "\n",
    " Create a public GitHub repository for your analysis. Upload your code and data. Add a README and a LICENSE for the repo. The README should include all of your documentation about the data (such as its provenance, any quirks in your data, potential biases, etc.) and the analysis (what you are showing, and why). The LICENSE should be an MIT LicenseLinks to an external site. for your code.\n",
    "\n",
    " On Canvas, submit links to your GitHub repo and data.world dataset, as well as the image file of your final visualization.\n",
    "\n",
    "Tip: someone who stumbles across your GitHub repo should be able to fully reproduce your analysis. In that event, what information would that person want or need? Make sure you include it!"
   ]
  },
  {
   "cell_type": "code",
   "execution_count": null,
   "metadata": {},
   "outputs": [],
   "source": []
  }
 ],
 "metadata": {
  "kernelspec": {
   "display_name": "Python 3 (ipykernel)",
   "language": "python",
   "name": "python3"
  },
  "language_info": {
   "codemirror_mode": {
    "name": "ipython",
    "version": 3
   },
   "file_extension": ".py",
   "mimetype": "text/x-python",
   "name": "python",
   "nbconvert_exporter": "python",
   "pygments_lexer": "ipython3",
   "version": "3.9.12"
  },
  "vscode": {
   "interpreter": {
    "hash": "aee8b7b246df8f9039afb4144a1f6fd8d2ca17a180786b69acc140d282b71a49"
   }
  }
 },
 "nbformat": 4,
 "nbformat_minor": 2
}
